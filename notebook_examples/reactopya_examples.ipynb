{
 "cells": [
  {
   "cell_type": "code",
   "execution_count": null,
   "metadata": {},
   "outputs": [],
   "source": [
    "import reactopya_examples as rg\n",
    "rg.init_jupyter(store_bundle_in_notebook=False) # use =True to store the javascript bundle in the notebook"
   ]
  },
  {
   "cell_type": "code",
   "execution_count": null,
   "metadata": {},
   "outputs": [],
   "source": [
    "X = rg.PlotlyExample()\n",
    "X.show()"
   ]
  },
  {
   "cell_type": "code",
   "execution_count": null,
   "metadata": {},
   "outputs": [],
   "source": [
    "X = rg.VtkCone()\n",
    "X.show()"
   ]
  },
  {
   "cell_type": "code",
   "execution_count": null,
   "metadata": {},
   "outputs": [],
   "source": [
    "X = rg.InteractivePlotly()\n",
    "X.show()"
   ]
  },
  {
   "cell_type": "code",
   "execution_count": null,
   "metadata": {},
   "outputs": [],
   "source": [
    "X = rg.HBox(\n",
    "    rg.PlotlyExample(),\n",
    "    rg.InteractivePlotly(),\n",
    "    width=1000\n",
    ")\n",
    "X.show()"
   ]
  },
  {
   "cell_type": "code",
   "execution_count": null,
   "metadata": {},
   "outputs": [],
   "source": [
    "X = rg.VBox(\n",
    "    rg.PlotlyExample(),\n",
    "    rg.InteractivePlotly()\n",
    ")\n",
    "X.show()"
   ]
  },
  {
   "cell_type": "code",
   "execution_count": null,
   "metadata": {},
   "outputs": [],
   "source": [
    "X = rg.Tabs(\n",
    "    rg.PlotlyExample(),\n",
    "    rg.InteractivePlotly(),\n",
    "    tabs=[{'label': 'Plotly'}, {'label': 'Interactive'}],\n",
    "    width=1000\n",
    ")\n",
    "X.show()"
   ]
  },
  {
   "cell_type": "code",
   "execution_count": null,
   "metadata": {},
   "outputs": [],
   "source": [
    "X = rg.Accordion(\n",
    "    rg.PlotlyExample(),\n",
    "    rg.InteractivePlotly(),\n",
    "    panels=[{'label': 'Plotly'}, {'label': 'Interactive'}],\n",
    "    width=1000\n",
    ")\n",
    "X.show()"
   ]
  },
  {
   "cell_type": "code",
   "execution_count": null,
   "metadata": {},
   "outputs": [],
   "source": [
    "X1 = rg.HBox(rg.PlotlyExample(), rg.InteractivePlotly())\n",
    "X2 = rg.VBox(rg.PlotlyExample(), rg.InteractivePlotly(), width=400)\n",
    "X3 = rg.Tabs(rg.PlotlyExample(), rg.InteractivePlotly(), tabs=[{'label': 'Plotly'}, {'label': 'Interactive'}])\n",
    "X4 = rg.Accordion(rg.PlotlyExample(), rg.InteractivePlotly(), panels=[{'label': 'Plotly'}, {'label': 'Interactive'}])\n",
    "X = rg.Tabs(\n",
    "    X1, X2, X3, X4,\n",
    "    tabs=[{'label': 'HBox'}, {'label': 'VBox'}, {'label': 'Tabs'}, {'label': 'Accordion'}],\n",
    "    width=1000\n",
    ")\n",
    "X.show()"
   ]
  },
  {
   "cell_type": "code",
   "execution_count": null,
   "metadata": {},
   "outputs": [],
   "source": [
    "sync1 = rg.create_sync('noise_level', 'num_points')\n",
    "X = rg.HBox(\n",
    "    rg.InteractivePlotly(sync=sync1.map_all()),\n",
    "    rg.InteractivePlotly(sync=sync1.map_all()),\n",
    "    width=1000\n",
    ")\n",
    "X.show()"
   ]
  }
 ],
 "metadata": {
  "kernelspec": {
   "display_name": "Python 3",
   "language": "python",
   "name": "python3"
  },
  "language_info": {
   "codemirror_mode": {
    "name": "ipython",
    "version": 3
   },
   "file_extension": ".py",
   "mimetype": "text/x-python",
   "name": "python",
   "nbconvert_exporter": "python",
   "pygments_lexer": "ipython3",
   "version": "3.6.8"
  }
 },
 "nbformat": 4,
 "nbformat_minor": 4
}
